{
 "cells": [
  {
   "cell_type": "markdown",
   "metadata": {},
   "source": [
    "## A、标准数据结构"
   ]
  },
  {
   "cell_type": "markdown",
   "metadata": {},
   "source": [
    "### a、数字"
   ]
  },
  {
   "cell_type": "markdown",
   "metadata": {},
   "source": [
    "数字(Number)是不可变数据类型，有int(整型)、float(浮点型)、bool(布尔型)、complex(复数)"
   ]
  },
  {
   "cell_type": "markdown",
   "metadata": {},
   "source": [
    "### b、字符串"
   ]
  },
  {
   "cell_type": "markdown",
   "metadata": {},
   "source": [
    "### c、列表"
   ]
  },
  {
   "cell_type": "markdown",
   "metadata": {},
   "source": [
    "列表可以混合不同的数据类型，几乎可以存储任意类型数据\n",
    "- 创建列表"
   ]
  },
  {
   "cell_type": "code",
   "execution_count": null,
   "metadata": {},
   "outputs": [],
   "source": [
    "arr = list()\n",
    "arr = []\n",
    "arr = [1, \"a\", 0.001]\n",
    "type(arr) # 查看数据类型"
   ]
  },
  {
   "cell_type": "markdown",
   "metadata": {},
   "source": [
    "- 列表索引\n",
    "\n",
    "从左至右：0，1，2... 从右至左：-1，-2，-3..."
   ]
  },
  {
   "cell_type": "markdown",
   "metadata": {},
   "source": [
    "- 访问列表值 list[index]"
   ]
  },
  {
   "cell_type": "code",
   "execution_count": null,
   "metadata": {},
   "outputs": [],
   "source": [
    "print(arr[1])"
   ]
  },
  {
   "cell_type": "markdown",
   "metadata": {},
   "source": [
    "- 列表切片"
   ]
  },
  {
   "cell_type": "code",
   "execution_count": null,
   "metadata": {},
   "outputs": [],
   "source": [
    "print(arr[:])\n",
    "print(arr[1:3])\n",
    "print(arr[2:])"
   ]
  },
  {
   "cell_type": "markdown",
   "metadata": {},
   "source": [
    "- 支持拼接"
   ]
  },
  {
   "cell_type": "code",
   "execution_count": null,
   "metadata": {},
   "outputs": [],
   "source": [
    "print([1,2,3] + [4,5,6])\n",
    "print([3] * 5)"
   ]
  },
  {
   "cell_type": "markdown",
   "metadata": {},
   "source": [
    "- 列表的函数：len()、max()、min()"
   ]
  },
  {
   "cell_type": "code",
   "execution_count": null,
   "metadata": {
    "scrolled": true
   },
   "outputs": [],
   "source": [
    "print(len(arr))\n",
    "print(max([1,5,6]))\n",
    "print(min([1,-1,6]))"
   ]
  },
  {
   "cell_type": "markdown",
   "metadata": {},
   "source": [
    "- 列表的方法：append()、count()、extend()、index()、insert()、pop()、remove()、reverse()、sort()"
   ]
  },
  {
   "cell_type": "code",
   "execution_count": null,
   "metadata": {},
   "outputs": [],
   "source": [
    "arr.append(\"src\")\n",
    "arr.count(\"src\")        #统计列表中\"src\"的个数\n",
    "arr.extend([1,2,3])     #在列表list_1结尾添加另一个列表的元素\n",
    "arr.index(\"src\")        #从列表种找到\"src\"第一个匹配项的索引值\n",
    "arr.insert(2,\"src\")     #在索引为2的位置插入元素\"src\"\n",
    "arr.pop()               #默认移除列表中最后一个元素，也可以指定索引，移除指定元素\n",
    "arr.remove(\"src\")       #移除列表种第一个”src“\n",
    "# PS:pop()移除索引位置对应元素，返回该元素值，remove()移除列表中第一个匹配元素，没有返回值\n",
    "arr.reverse()           #把列表倒序\n",
    "arr.sort()              #把列表元素按从小到大排序"
   ]
  },
  {
   "cell_type": "markdown",
   "metadata": {},
   "source": [
    "### d、元组"
   ]
  },
  {
   "cell_type": "markdown",
   "metadata": {},
   "source": [
    "元组的元素不可修改\n",
    "\n",
    "- 创建元组"
   ]
  },
  {
   "cell_type": "code",
   "execution_count": null,
   "metadata": {},
   "outputs": [],
   "source": [
    "tup = tuple()           \n",
    "tup = ()                \n",
    "tup = (1,)               #创建只包含一个元素的元组，注意要有逗号\n",
    "tup = (1, \"apple\", 5)   "
   ]
  },
  {
   "cell_type": "markdown",
   "metadata": {},
   "source": [
    "- 获取元素值(同列表)\n",
    "- 元组值不能修改，但同样支持拼接和删除整个元组"
   ]
  },
  {
   "cell_type": "code",
   "execution_count": null,
   "metadata": {},
   "outputs": [],
   "source": [
    "tup1 = (1,)\n",
    "tup2 = (2,3)\n",
    "tup3 = tup1 + tup2\n",
    "tup4 = tup1 * 2\n",
    "print(tup3)\n",
    "print(tup4)\n",
    "del(tup3)"
   ]
  },
  {
   "cell_type": "markdown",
   "metadata": {},
   "source": [
    "- 元组函数\n",
    "\n",
    "len()、max()、min()等，与列表类似"
   ]
  },
  {
   "cell_type": "markdown",
   "metadata": {},
   "source": [
    "### e、字典\n",
    "\n",
    "字典元素可变，可存储任意类型对象\n",
    "\n",
    "- 创建字典"
   ]
  },
  {
   "cell_type": "code",
   "execution_count": null,
   "metadata": {},
   "outputs": [],
   "source": [
    "Dict = dict()\n",
    "Dict = {}\n",
    "Dict = {\"name\":\"张三\", \"age\":16}"
   ]
  },
  {
   "cell_type": "markdown",
   "metadata": {},
   "source": [
    "- 获取字典值"
   ]
  },
  {
   "cell_type": "code",
   "execution_count": null,
   "metadata": {},
   "outputs": [],
   "source": [
    "print(Dict[\"age\"])"
   ]
  },
  {
   "cell_type": "markdown",
   "metadata": {},
   "source": [
    "- 修改字典"
   ]
  },
  {
   "cell_type": "code",
   "execution_count": null,
   "metadata": {},
   "outputs": [],
   "source": [
    "Dict[\"age\"] = 15\n",
    "Dict[\"sex\"] = \"male\"\n",
    "print(Dict)\n",
    "del Dict[\"sex\"]\n",
    "print(Dict)"
   ]
  },
  {
   "cell_type": "markdown",
   "metadata": {},
   "source": [
    "- 字典函数"
   ]
  },
  {
   "cell_type": "code",
   "execution_count": null,
   "metadata": {},
   "outputs": [],
   "source": [
    "print(len(Dict))         #输出键值对的数目\n",
    "print(list(Dict))        #以列表形式输出所有键\n",
    "print(str(Dict))         #输出字典可打印的字符串表示，返回字符串类型(把字典直接打印出来)"
   ]
  },
  {
   "cell_type": "markdown",
   "metadata": {},
   "source": [
    "- 字典方法\n",
    "\n",
    "调用help(dict)查看"
   ]
  },
  {
   "cell_type": "markdown",
   "metadata": {},
   "source": [
    "### f、集合\n",
    "\n",
    "集合(set)是一个无序的不重复元素序列\n",
    "\n",
    "- 创建集合"
   ]
  },
  {
   "cell_type": "code",
   "execution_count": null,
   "metadata": {},
   "outputs": [],
   "source": [
    "s = {\"00\", \"11\", \"00\"}      #集合可自动去重，注意创建空列表必须用set()\n",
    " \n",
    "a = set(\"asdwefaf\")\n",
    "b = set(\"segvfdvsaa\")\n",
    "print(a-b)                  #输出从a中去除掉a与b的交集\n",
    "print(a | b)                #输出a与b的并集\n",
    "print(a & b)                #输出a与b的交集"
   ]
  },
  {
   "cell_type": "markdown",
   "metadata": {},
   "source": [
    "- 插入元素"
   ]
  },
  {
   "cell_type": "code",
   "execution_count": null,
   "metadata": {},
   "outputs": [],
   "source": [
    "s.add(\"apple\")                          #添加一个元素\n",
    "s.update([1,2,3])                       #添加多个元素\n",
    "s.update([1, 2], [\"d3wdfw\", \"dqdq\"])    #添加是列表中的每一个元素\n",
    "print(s)"
   ]
  },
  {
   "cell_type": "markdown",
   "metadata": {},
   "source": [
    "- 删除元素"
   ]
  },
  {
   "cell_type": "code",
   "execution_count": null,
   "metadata": {},
   "outputs": [],
   "source": [
    "#当删除的元素不存在的时候，remove会报错，discard不会报错\n",
    "s.remove(\"apple\")\n",
    "s.discard(\"pear\")\n",
    "s.pop()    #随机删除元素"
   ]
  },
  {
   "cell_type": "markdown",
   "metadata": {},
   "source": [
    "## B、标准类型操作符\n",
    "### a、算数运算符\n",
    "\n",
    "\\+  -  *  /\n",
    "\n",
    "% 取模(除法余数)\n",
    "\n",
    "** 求幂\n",
    "\n",
    "// 取整除(商的整数部分)"
   ]
  },
  {
   "cell_type": "markdown",
   "metadata": {},
   "source": [
    "### b、比较运算符\n",
    "\n",
    "==  !  =\n",
    "\n",
    "\\>  >=  <  <="
   ]
  },
  {
   "cell_type": "markdown",
   "metadata": {},
   "source": [
    "### c、赋值运算符\n",
    "\n",
    "&  |  ^  -； 与 或 异或 取反\n",
    "\n",
    "<<  >>；  左移 右移 "
   ]
  },
  {
   "cell_type": "markdown",
   "metadata": {},
   "source": [
    "### d、逻辑运算符\n",
    "\n",
    "and  or not"
   ]
  },
  {
   "cell_type": "markdown",
   "metadata": {},
   "source": [
    "### f、成员运算符\n",
    "\n",
    "in, not in"
   ]
  },
  {
   "cell_type": "markdown",
   "metadata": {},
   "source": [
    "### g、身份运算符\n",
    "\n",
    "is, is not"
   ]
  },
  {
   "cell_type": "code",
   "execution_count": null,
   "metadata": {},
   "outputs": [],
   "source": []
  }
 ],
 "metadata": {
  "kernelspec": {
   "display_name": "Python 3",
   "language": "python",
   "name": "python3"
  },
  "language_info": {
   "codemirror_mode": {
    "name": "ipython",
    "version": 3
   },
   "file_extension": ".py",
   "mimetype": "text/x-python",
   "name": "python",
   "nbconvert_exporter": "python",
   "pygments_lexer": "ipython3",
   "version": "3.7.6"
  }
 },
 "nbformat": 4,
 "nbformat_minor": 4
}
